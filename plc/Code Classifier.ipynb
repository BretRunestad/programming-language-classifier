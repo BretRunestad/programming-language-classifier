{
 "metadata": {
  "name": "",
  "signature": "sha256:506a4c7268842306b7c8e76a3a9556459f92507e332006299787ba26f077df1d"
 },
 "nbformat": 3,
 "nbformat_minor": 0,
 "worksheets": [
  {
   "cells": [
    {
     "cell_type": "code",
     "collapsed": false,
     "input": [
      "from data_load import*\n",
      "from features import*\n",
      "from classifier import*"
     ],
     "language": "python",
     "metadata": {},
     "outputs": [],
     "prompt_number": 55
    },
    {
     "cell_type": "code",
     "collapsed": false,
     "input": [
      "import os\n",
      "import pandas as pd\n",
      "import re"
     ],
     "language": "python",
     "metadata": {},
     "outputs": [],
     "prompt_number": 56
    },
    {
     "cell_type": "code",
     "collapsed": false,
     "input": [
      "word_list = ['let', 'end', 'defn', 'function', 'fun', 'return', 'def', 'return', 'check', 'make', '->', '.format',\n",
      "             'define', '::', 'done', 'type', 'rescue']\n",
      "symbol_list = ['$', '^', ',', ';', '&', '|', '!']"
     ],
     "language": "python",
     "metadata": {},
     "outputs": [],
     "prompt_number": 57
    },
    {
     "cell_type": "code",
     "collapsed": false,
     "input": [
      "def data_frame_generator():\n",
      "    codelist = code_sucker()\n",
      "    typelist = type_getter()\n",
      "    df = pd.DataFrame(typelist, index=range(386))\n",
      "    df.columns = [\"Language\"]\n",
      "    df[\"Code\"] = codelist\n",
      "    df['Language'] = df.Language.apply(lambda x:x.lower())\n",
      "    for string in word_list:\n",
      "        def sub_function(code):\n",
      "            x = string_ratio(string, code)\n",
      "            return x\n",
      "        df[string] = df.Code.apply(sub_function)\n",
      "    for char in symbol_list:\n",
      "        def sub_function2(code):\n",
      "            y = character_ratio(code, char)\n",
      "            return y\n",
      "        df[char] = df.Code.apply(sub_function2)\n",
      "    return df"
     ],
     "language": "python",
     "metadata": {},
     "outputs": [],
     "prompt_number": 58
    },
    {
     "cell_type": "code",
     "collapsed": false,
     "input": [
      "df = data_frame_generator()"
     ],
     "language": "python",
     "metadata": {},
     "outputs": [],
     "prompt_number": 59
    },
    {
     "cell_type": "code",
     "collapsed": false,
     "input": [
      "#df.head(2)"
     ],
     "language": "python",
     "metadata": {},
     "outputs": [],
     "prompt_number": 60
    },
    {
     "cell_type": "code",
     "collapsed": false,
     "input": [
      "def tdata_frame_generator():\n",
      "    test_codelist = tcode_sucker()\n",
      "    df = pd.read_csv(\"test.csv\")\n",
      "    df[\"Code\"] = test_codelist\n",
      "    for string in word_list:\n",
      "        def sub_function(code):\n",
      "            x = string_ratio(string, code)\n",
      "            return x\n",
      "        df[string] = df.Code.apply(sub_function)\n",
      "    for char in symbol_list:\n",
      "        def sub_function2(code):\n",
      "            y = character_ratio(code, char)\n",
      "            return y\n",
      "        df[char] = df.Code.apply(sub_function2)\n",
      "    return df"
     ],
     "language": "python",
     "metadata": {},
     "outputs": [],
     "prompt_number": 61
    },
    {
     "cell_type": "code",
     "collapsed": false,
     "input": [
      "test_df = tdata_frame_generator()"
     ],
     "language": "python",
     "metadata": {},
     "outputs": [],
     "prompt_number": 62
    },
    {
     "cell_type": "code",
     "collapsed": false,
     "input": [
      "#test_df"
     ],
     "language": "python",
     "metadata": {},
     "outputs": [],
     "prompt_number": 69
    },
    {
     "cell_type": "code",
     "collapsed": false,
     "input": [
      "x_train, x_test, y_train, y_test = create_xy(df, test_df, word_list[0], 'Language')"
     ],
     "language": "python",
     "metadata": {},
     "outputs": [],
     "prompt_number": 64
    },
    {
     "cell_type": "code",
     "collapsed": false,
     "input": [
      "from sklearn.naive_bayes import GaussianNB\n",
      "from sklearn.tree import DecisionTreeClassifier"
     ],
     "language": "python",
     "metadata": {},
     "outputs": [],
     "prompt_number": 65
    },
    {
     "cell_type": "code",
     "collapsed": false,
     "input": [
      "tree = DecisionTreeClassifier()\n",
      "run_classifier(tree, x_train, x_test, y_train, y_test)"
     ],
     "language": "python",
     "metadata": {},
     "outputs": [
      {
       "output_type": "stream",
       "stream": "stdout",
       "text": [
        "             precision    recall  f1-score   support\n",
        "\n",
        "    clojure       0.33      0.25      0.29         4\n",
        "    haskell       0.25      0.33      0.29         3\n",
        "       java       0.00      0.00      0.00         2\n",
        " javascript       0.25      0.25      0.25         4\n",
        "      ocaml       0.00      0.00      0.00         2\n",
        "        php       0.00      0.00      0.00         3\n",
        "     python       0.00      0.00      0.00         4\n",
        "       ruby       0.00      0.00      0.00         3\n",
        "      scala       0.00      0.00      0.00         2\n",
        "     scheme       0.00      0.00      0.00         3\n",
        "\n",
        "avg / total       0.10      0.10      0.10        30\n",
        "\n",
        "[[1 0 0 2 0 0 1 0 0 0]\n",
        " [0 1 1 0 0 0 0 0 1 0]\n",
        " [0 0 0 0 0 1 0 0 1 0]\n",
        " [1 2 0 1 0 0 0 0 0 0]\n",
        " [0 0 0 1 0 0 0 1 0 0]\n",
        " [0 0 0 0 0 0 2 1 0 0]\n",
        " [0 1 0 0 0 0 0 3 0 0]\n",
        " [0 0 1 0 0 0 0 0 2 0]\n",
        " [1 0 0 0 1 0 0 0 0 0]\n",
        " [0 0 0 0 0 2 0 1 0 0]]\n",
        "0.1\n"
       ]
      }
     ],
     "prompt_number": 66
    },
    {
     "cell_type": "code",
     "collapsed": false,
     "input": [
      "gauss = GaussianNB()\n",
      "run_classifier(gauss, x_train, x_test, y_train, y_test)"
     ],
     "language": "python",
     "metadata": {},
     "outputs": [
      {
       "output_type": "stream",
       "stream": "stdout",
       "text": [
        "             precision    recall  f1-score   support\n",
        "\n",
        "    clojure       0.25      0.25      0.25         4\n",
        "    haskell       0.00      0.00      0.00         3\n",
        "       java       0.00      0.00      0.00         2\n",
        " javascript       0.00      0.00      0.00         4\n",
        "      ocaml       0.00      0.00      0.00         2\n",
        "       perl       0.00      0.00      0.00         0\n",
        "        php       0.00      0.00      0.00         3\n",
        "     python       0.20      0.25      0.22         4\n",
        "       ruby       0.00      0.00      0.00         3\n",
        "      scala       0.00      0.00      0.00         2\n",
        "     scheme       0.00      0.00      0.00         3\n",
        "\n",
        "avg / total       0.06      0.07      0.06        30\n",
        "\n",
        "[[1 0 0 2 0 0 1 0 0 0 0]\n",
        " [1 0 0 1 0 1 0 0 0 0 0]\n",
        " [0 0 0 0 1 0 1 0 0 0 0]\n",
        " [1 0 0 0 1 1 1 0 0 0 0]\n",
        " [0 0 0 1 0 0 0 1 0 0 0]\n",
        " [0 0 0 0 0 0 0 0 0 0 0]\n",
        " [0 0 0 0 0 0 0 3 0 0 0]\n",
        " [0 0 0 0 0 1 1 1 1 0 0]\n",
        " [0 1 0 0 0 0 0 0 0 0 2]\n",
        " [1 0 0 0 1 0 0 0 0 0 0]\n",
        " [0 0 0 0 1 0 2 0 0 0 0]]\n",
        "0.062962962963\n"
       ]
      }
     ],
     "prompt_number": 67
    }
   ],
   "metadata": {}
  }
 ]
}