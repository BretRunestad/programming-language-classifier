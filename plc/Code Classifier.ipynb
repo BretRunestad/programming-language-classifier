{
 "metadata": {
  "name": "",
  "signature": "sha256:aa35d7283b86da81f1512e49ff7045892454a5dc1ee2c5c3be305e6c1133bdc3"
 },
 "nbformat": 3,
 "nbformat_minor": 0,
 "worksheets": [
  {
   "cells": [
    {
     "cell_type": "code",
     "collapsed": false,
     "input": [
      "from data_load import*\n",
      "from features import*\n",
      "from classifier import*\n",
      "from random_guesser import*"
     ],
     "language": "python",
     "metadata": {},
     "outputs": [],
     "prompt_number": 82
    },
    {
     "cell_type": "code",
     "collapsed": false,
     "input": [
      "import os\n",
      "import pandas as pd\n",
      "import re\n",
      "import random"
     ],
     "language": "python",
     "metadata": {},
     "outputs": [],
     "prompt_number": 83
    },
    {
     "cell_type": "code",
     "collapsed": false,
     "input": [
      "word_list = ['let', 'end', 'defn', 'function', 'fun', 'return', 'def', 'return', 'check', 'make', '->', '.format',\n",
      "             'define', '::', 'done', 'type', 'rescue', 'print', 'elif', 'clone', 'display', '$format', 'echo', 'str',\n",
      "             'join', '&&', 'val', 'Nil', 'object', '<-', '--', 'lambda', 'var', '//', 'tmpl', 'public function',\n",
      "             'stdlib', '=>', ]\n",
      "symbol_list = ['$', '^', ',', ';', '&', '|', '!', '*', '@', '#']\n",
      "endings = ['end', ')', '}']"
     ],
     "language": "python",
     "metadata": {},
     "outputs": [],
     "prompt_number": 84
    },
    {
     "cell_type": "code",
     "collapsed": false,
     "input": [
      "def data_frame_generator():\n",
      "    codelist = code_sucker()\n",
      "    typelist = type_getter()\n",
      "    df = pd.DataFrame(typelist, index=range(386))\n",
      "    df.columns = [\"Language\"]\n",
      "    df[\"Code\"] = codelist\n",
      "    df['Language'] = df.Language.apply(lambda x:x.lower())\n",
      "    for string in word_list:\n",
      "        def sub_function(code):\n",
      "            x = string_ratio(string, code)\n",
      "            return x\n",
      "        df[string] = df.Code.apply(sub_function)\n",
      "    for char in symbol_list:\n",
      "        def sub_function2(code):\n",
      "            y = character_ratio(code, char)\n",
      "            return y\n",
      "        df[char] = df.Code.apply(sub_function2)\n",
      "    for ending in endings:\n",
      "        def sub_function3(code):\n",
      "            z = string_end(ending, code)\n",
      "            return z\n",
      "        df['_' + ending] = df.Code.apply(sub_function3)\n",
      "    return df"
     ],
     "language": "python",
     "metadata": {},
     "outputs": [],
     "prompt_number": 85
    },
    {
     "cell_type": "code",
     "collapsed": false,
     "input": [
      "df = data_frame_generator()"
     ],
     "language": "python",
     "metadata": {},
     "outputs": [],
     "prompt_number": 86
    },
    {
     "cell_type": "code",
     "collapsed": false,
     "input": [
      "#df.head(2)"
     ],
     "language": "python",
     "metadata": {},
     "outputs": [],
     "prompt_number": 87
    },
    {
     "cell_type": "code",
     "collapsed": false,
     "input": [
      "def tdata_frame_generator():\n",
      "    test_codelist = tcode_sucker()\n",
      "    df = pd.read_csv(\"test.csv\")\n",
      "    df[\"Code\"] = test_codelist\n",
      "    for string in word_list:\n",
      "        def sub_function(code):\n",
      "            x = string_ratio(string, code)\n",
      "            return x\n",
      "        df[string] = df.Code.apply(sub_function)\n",
      "    for char in symbol_list:\n",
      "        def sub_function2(code):\n",
      "            y = character_ratio(code, char)\n",
      "            return y\n",
      "        df[char] = df.Code.apply(sub_function2)\n",
      "    for ending in endings:\n",
      "        def sub_function3(code):\n",
      "            z = string_end(ending, code)\n",
      "            return z\n",
      "        df['_' + ending] = df.Code.apply(sub_function3)\n",
      "    return df"
     ],
     "language": "python",
     "metadata": {},
     "outputs": [],
     "prompt_number": 88
    },
    {
     "cell_type": "code",
     "collapsed": false,
     "input": [
      "test_df = tdata_frame_generator()"
     ],
     "language": "python",
     "metadata": {},
     "outputs": [],
     "prompt_number": 89
    },
    {
     "cell_type": "code",
     "collapsed": false,
     "input": [
      "x_train, x_test, y_train, y_test = create_xy(df, test_df, word_list[0], 'Language')"
     ],
     "language": "python",
     "metadata": {},
     "outputs": [],
     "prompt_number": 90
    },
    {
     "cell_type": "code",
     "collapsed": false,
     "input": [],
     "language": "python",
     "metadata": {},
     "outputs": [],
     "prompt_number": 90
    },
    {
     "cell_type": "code",
     "collapsed": false,
     "input": [
      "from sklearn.naive_bayes import GaussianNB\n",
      "from sklearn.tree import DecisionTreeClassifier\n",
      "from sklearn.naive_bayes import MultinomialNB "
     ],
     "language": "python",
     "metadata": {},
     "outputs": [],
     "prompt_number": 91
    },
    {
     "cell_type": "code",
     "collapsed": false,
     "input": [
      "tree = DecisionTreeClassifier()\n",
      "run_classifier(tree, x_train, x_test, y_train, y_test)"
     ],
     "language": "python",
     "metadata": {},
     "outputs": [
      {
       "output_type": "stream",
       "stream": "stdout",
       "text": [
        "             precision    recall  f1-score   support\n",
        "\n",
        "    clojure       1.00      0.75      0.86         4\n",
        "    haskell       0.75      1.00      0.86         3\n",
        "       java       1.00      1.00      1.00         2\n",
        " javascript       0.50      0.75      0.60         4\n",
        "      ocaml       1.00      0.50      0.67         2\n",
        "        php       1.00      0.67      0.80         3\n",
        "     python       1.00      0.25      0.40         4\n",
        "       ruby       0.40      0.67      0.50         3\n",
        "      scala       0.50      1.00      0.67         2\n",
        "     scheme       0.00      0.00      0.00         3\n",
        "\n",
        "avg / total       0.71      0.63      0.62        30\n",
        "\n",
        "[[3 0 0 0 0 0 0 1 0 0]\n",
        " [0 3 0 0 0 0 0 0 0 0]\n",
        " [0 0 2 0 0 0 0 0 0 0]\n",
        " [0 0 0 3 0 0 0 0 1 0]\n",
        " [0 1 0 0 1 0 0 0 0 0]\n",
        " [0 0 0 0 0 2 0 0 1 0]\n",
        " [0 0 0 1 0 0 1 1 0 1]\n",
        " [0 0 0 0 0 0 0 2 0 1]\n",
        " [0 0 0 0 0 0 0 0 2 0]\n",
        " [0 0 0 2 0 0 0 1 0 0]]\n",
        "0.618888888889\n"
       ]
      }
     ],
     "prompt_number": 92
    },
    {
     "cell_type": "code",
     "collapsed": false,
     "input": [
      "gauss = GaussianNB()\n",
      "run_classifier(gauss, x_train, x_test, y_train, y_test)"
     ],
     "language": "python",
     "metadata": {},
     "outputs": [
      {
       "output_type": "stream",
       "stream": "stdout",
       "text": [
        "             precision    recall  f1-score   support\n",
        "\n",
        "    clojure       1.00      1.00      1.00         4\n",
        "    haskell       1.00      0.67      0.80         3\n",
        "       java       1.00      1.00      1.00         2\n",
        " javascript       1.00      0.25      0.40         4\n",
        "      ocaml       1.00      1.00      1.00         2\n",
        "       perl       0.00      0.00      0.00         0\n",
        "        php       0.33      1.00      0.50         3\n",
        "     python       1.00      1.00      1.00         4\n",
        "       ruby       1.00      0.33      0.50         3\n",
        "      scala       0.00      0.00      0.00         2\n",
        "     scheme       1.00      1.00      1.00         3\n",
        "\n",
        "avg / total       0.87      0.73      0.73        30\n",
        "\n",
        "[[4 0 0 0 0 0 0 0 0 0 0]\n",
        " [0 2 0 0 0 0 0 0 0 1 0]\n",
        " [0 0 2 0 0 0 0 0 0 0 0]\n",
        " [0 0 0 1 0 0 3 0 0 0 0]\n",
        " [0 0 0 0 2 0 0 0 0 0 0]\n",
        " [0 0 0 0 0 0 0 0 0 0 0]\n",
        " [0 0 0 0 0 0 3 0 0 0 0]\n",
        " [0 0 0 0 0 0 0 4 0 0 0]\n",
        " [0 0 0 0 0 1 1 0 1 0 0]\n",
        " [0 0 0 0 0 0 2 0 0 0 0]\n",
        " [0 0 0 0 0 0 0 0 0 0 3]]\n",
        "0.733333333333\n"
       ]
      }
     ],
     "prompt_number": 93
    },
    {
     "cell_type": "code",
     "collapsed": false,
     "input": [
      "test_string = \"\"\"import re\n",
      "\n",
      "def character_counter(code, char):\n",
      "    counter = 0\n",
      "    for _ in code:\n",
      "        if _ == char:\n",
      "            counter+=1\n",
      "    return counter\n",
      "\n",
      "def character_ratio(code, char):\n",
      "    value = character_counter(code, char)/len(code)\n",
      "    return value\n",
      "\n",
      "def string_finder(string, code):\n",
      "    value = len(re.findall(string, code))\n",
      "    return value\n",
      "\n",
      "def string_ratio(string, code):\n",
      "    value = string_finder(string, code)/len(code)\n",
      "    return value\n",
      "\n",
      "def string_end(string, code):\n",
      "    if code.endswith(string):\n",
      "        return 10\n",
      "    else:\n",
      "        return 0\"\"\""
     ],
     "language": "python",
     "metadata": {},
     "outputs": [],
     "prompt_number": 94
    },
    {
     "cell_type": "code",
     "collapsed": false,
     "input": [
      "test_list=[test_string]"
     ],
     "language": "python",
     "metadata": {},
     "outputs": [],
     "prompt_number": 95
    },
    {
     "cell_type": "code",
     "collapsed": false,
     "input": [
      "xdf = pd.DataFrame(test_list, index=range(1), columns=['Code'])"
     ],
     "language": "python",
     "metadata": {},
     "outputs": [],
     "prompt_number": 96
    },
    {
     "cell_type": "code",
     "collapsed": false,
     "input": [],
     "language": "python",
     "metadata": {},
     "outputs": [],
     "prompt_number": 96
    },
    {
     "cell_type": "code",
     "collapsed": false,
     "input": [
      "def x_data_frame_generator(df):\n",
      "    for string in word_list:\n",
      "        def sub_function(code):\n",
      "            x = string_ratio(string, code)\n",
      "            return x\n",
      "        df[string] = df.Code.apply(sub_function)\n",
      "    for char in symbol_list:\n",
      "        def sub_function2(code):\n",
      "            y = character_ratio(code, char)\n",
      "            return y\n",
      "        df[char] = df.Code.apply(sub_function2)\n",
      "    for ending in endings:\n",
      "        def sub_function3(code):\n",
      "            z = string_end(ending, code)\n",
      "            return z\n",
      "        df['_' + ending] = df.Code.apply(sub_function3)\n",
      "    return df"
     ],
     "language": "python",
     "metadata": {},
     "outputs": [],
     "prompt_number": 97
    },
    {
     "cell_type": "code",
     "collapsed": false,
     "input": [
      "xdf = x_data_frame_generator(xdf)"
     ],
     "language": "python",
     "metadata": {},
     "outputs": [],
     "prompt_number": 98
    },
    {
     "cell_type": "code",
     "collapsed": false,
     "input": [
      "xdf"
     ],
     "language": "python",
     "metadata": {},
     "outputs": [
      {
       "html": [
        "<div style=\"max-height:1000px;max-width:1500px;overflow:auto;\">\n",
        "<table border=\"1\" class=\"dataframe\">\n",
        "  <thead>\n",
        "    <tr style=\"text-align: right;\">\n",
        "      <th></th>\n",
        "      <th>Code</th>\n",
        "      <th>let</th>\n",
        "      <th>end</th>\n",
        "      <th>defn</th>\n",
        "      <th>function</th>\n",
        "      <th>fun</th>\n",
        "      <th>return</th>\n",
        "      <th>def</th>\n",
        "      <th>check</th>\n",
        "      <th>make</th>\n",
        "      <th>...</th>\n",
        "      <th>;</th>\n",
        "      <th>&amp;</th>\n",
        "      <th>|</th>\n",
        "      <th>!</th>\n",
        "      <th>*</th>\n",
        "      <th>@</th>\n",
        "      <th>#</th>\n",
        "      <th>_end</th>\n",
        "      <th>_)</th>\n",
        "      <th>_}</th>\n",
        "    </tr>\n",
        "  </thead>\n",
        "  <tbody>\n",
        "    <tr>\n",
        "      <th>0</th>\n",
        "      <td> import re\\n\\ndef character_counter(code, char)...</td>\n",
        "      <td> 0</td>\n",
        "      <td> 0.003663</td>\n",
        "      <td> 0</td>\n",
        "      <td> 0</td>\n",
        "      <td> 0</td>\n",
        "      <td> 0.010989</td>\n",
        "      <td> 0.009158</td>\n",
        "      <td> 0</td>\n",
        "      <td> 0</td>\n",
        "      <td>...</td>\n",
        "      <td> 0</td>\n",
        "      <td> 0</td>\n",
        "      <td> 0</td>\n",
        "      <td> 0</td>\n",
        "      <td> 0</td>\n",
        "      <td> 0</td>\n",
        "      <td> 0</td>\n",
        "      <td> 0</td>\n",
        "      <td> 0</td>\n",
        "      <td> 0</td>\n",
        "    </tr>\n",
        "  </tbody>\n",
        "</table>\n",
        "<p>1 rows \u00d7 51 columns</p>\n",
        "</div>"
       ],
       "metadata": {},
       "output_type": "pyout",
       "prompt_number": 99,
       "text": [
        "                                                Code  let       end  defn  \\\n",
        "0  import re\\n\\ndef character_counter(code, char)...    0  0.003663     0   \n",
        "\n",
        "   function  fun    return       def  check  make ...  ;  &  |  !  *  @  #  \\\n",
        "0         0    0  0.010989  0.009158      0     0 ...  0  0  0  0  0  0  0   \n",
        "\n",
        "   _end  _)  _}  \n",
        "0     0   0   0  \n",
        "\n",
        "[1 rows x 51 columns]"
       ]
      }
     ],
     "prompt_number": 99
    },
    {
     "cell_type": "code",
     "collapsed": false,
     "input": [
      "n = gauss.predict_proba(xdf.loc[:, 'let':])"
     ],
     "language": "python",
     "metadata": {},
     "outputs": [],
     "prompt_number": 100
    },
    {
     "cell_type": "code",
     "collapsed": false,
     "input": [
      "n"
     ],
     "language": "python",
     "metadata": {},
     "outputs": [
      {
       "metadata": {},
       "output_type": "pyout",
       "prompt_number": 101,
       "text": [
        "array([[  0.00000000e+000,   0.00000000e+000,   0.00000000e+000,\n",
        "          0.00000000e+000,   0.00000000e+000,   9.05283150e-071,\n",
        "          9.48911785e-060,   1.00000000e+000,   1.13311483e-064,\n",
        "          1.47138138e-306,   0.00000000e+000]])"
       ]
      }
     ],
     "prompt_number": 101
    },
    {
     "cell_type": "code",
     "collapsed": false,
     "input": [
      "random_guesser(y_test)"
     ],
     "language": "python",
     "metadata": {},
     "outputs": [
      {
       "metadata": {},
       "output_type": "pyout",
       "prompt_number": 102,
       "text": [
        "0.13333333333333333"
       ]
      }
     ],
     "prompt_number": 102
    }
   ],
   "metadata": {}
  }
 ]
}